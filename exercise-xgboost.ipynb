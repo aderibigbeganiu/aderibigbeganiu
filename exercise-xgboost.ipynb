{
 "cells": [
  {
   "cell_type": "markdown",
   "id": "f151be6e",
   "metadata": {
    "papermill": {
     "duration": 0.007349,
     "end_time": "2024-07-25T19:18:40.567687",
     "exception": false,
     "start_time": "2024-07-25T19:18:40.560338",
     "status": "completed"
    },
    "tags": []
   },
   "source": [
    "**This notebook is an exercise in the [Intermediate Machine Learning](https://www.kaggle.com/learn/intermediate-machine-learning) course.  You can reference the tutorial at [this link](https://www.kaggle.com/alexisbcook/xgboost).**\n",
    "\n",
    "---\n"
   ]
  },
  {
   "cell_type": "markdown",
   "id": "353eb7f3",
   "metadata": {
    "papermill": {
     "duration": 0.006481,
     "end_time": "2024-07-25T19:18:40.581340",
     "exception": false,
     "start_time": "2024-07-25T19:18:40.574859",
     "status": "completed"
    },
    "tags": []
   },
   "source": [
    "In this exercise, you will use your new knowledge to train a model with **gradient boosting**.\n",
    "\n",
    "# Setup\n",
    "\n",
    "The questions below will give you feedback on your work. Run the following cell to set up the feedback system."
   ]
  },
  {
   "cell_type": "code",
   "execution_count": 1,
   "id": "6a893bb7",
   "metadata": {
    "execution": {
     "iopub.execute_input": "2024-07-25T19:18:40.597991Z",
     "iopub.status.busy": "2024-07-25T19:18:40.597515Z",
     "iopub.status.idle": "2024-07-25T19:18:44.069117Z",
     "shell.execute_reply": "2024-07-25T19:18:44.068129Z"
    },
    "papermill": {
     "duration": 3.483844,
     "end_time": "2024-07-25T19:18:44.072011",
     "exception": false,
     "start_time": "2024-07-25T19:18:40.588167",
     "status": "completed"
    },
    "tags": []
   },
   "outputs": [
    {
     "name": "stdout",
     "output_type": "stream",
     "text": [
      "Setup Complete\n"
     ]
    }
   ],
   "source": [
    "# Set up code checking\n",
    "import os\n",
    "if not os.path.exists(\"../input/train.csv\"):\n",
    "    os.symlink(\"../input/home-data-for-ml-course/train.csv\", \"../input/train.csv\")  \n",
    "    os.symlink(\"../input/home-data-for-ml-course/test.csv\", \"../input/test.csv\") \n",
    "from learntools.core import binder\n",
    "binder.bind(globals())\n",
    "from learntools.ml_intermediate.ex6 import *\n",
    "print(\"Setup Complete\")"
   ]
  },
  {
   "cell_type": "markdown",
   "id": "5e22d8da",
   "metadata": {
    "papermill": {
     "duration": 0.00673,
     "end_time": "2024-07-25T19:18:44.086089",
     "exception": false,
     "start_time": "2024-07-25T19:18:44.079359",
     "status": "completed"
    },
    "tags": []
   },
   "source": [
    "You will work with the [Housing Prices Competition for Kaggle Learn Users](https://www.kaggle.com/c/home-data-for-ml-course) dataset from the previous exercise. \n",
    "\n",
    "![Ames Housing dataset image](https://storage.googleapis.com/kaggle-media/learn/images/lTJVG4e.png)\n",
    "\n",
    "Run the next code cell without changes to load the training and validation sets in `X_train`, `X_valid`, `y_train`, and `y_valid`.  The test set is loaded in `X_test`."
   ]
  },
  {
   "cell_type": "code",
   "execution_count": 2,
   "id": "51f7386b",
   "metadata": {
    "execution": {
     "iopub.execute_input": "2024-07-25T19:18:44.102121Z",
     "iopub.status.busy": "2024-07-25T19:18:44.101683Z",
     "iopub.status.idle": "2024-07-25T19:18:44.297724Z",
     "shell.execute_reply": "2024-07-25T19:18:44.296422Z"
    },
    "papermill": {
     "duration": 0.207551,
     "end_time": "2024-07-25T19:18:44.300687",
     "exception": false,
     "start_time": "2024-07-25T19:18:44.093136",
     "status": "completed"
    },
    "tags": []
   },
   "outputs": [],
   "source": [
    "import pandas as pd\n",
    "from sklearn.model_selection import train_test_split\n",
    "\n",
    "# Read the data\n",
    "X = pd.read_csv('../input/train.csv', index_col='Id')\n",
    "X_test_full = pd.read_csv('../input/test.csv', index_col='Id')\n",
    "\n",
    "# Remove rows with missing target, separate target from predictors\n",
    "X.dropna(axis=0, subset=['SalePrice'], inplace=True)\n",
    "y = X.SalePrice              \n",
    "X.drop(['SalePrice'], axis=1, inplace=True)\n",
    "\n",
    "# Break off validation set from training data\n",
    "X_train_full, X_valid_full, y_train, y_valid = train_test_split(X, y, train_size=0.8, test_size=0.2,\n",
    "                                                                random_state=0)\n",
    "\n",
    "# \"Cardinality\" means the number of unique values in a column\n",
    "# Select categorical columns with relatively low cardinality (convenient but arbitrary)\n",
    "low_cardinality_cols = [cname for cname in X_train_full.columns if X_train_full[cname].nunique() < 10 and \n",
    "                        X_train_full[cname].dtype == \"object\"]\n",
    "\n",
    "# Select numeric columns\n",
    "numeric_cols = [cname for cname in X_train_full.columns if X_train_full[cname].dtype in ['int64', 'float64']]\n",
    "\n",
    "# Keep selected columns only\n",
    "my_cols = low_cardinality_cols + numeric_cols\n",
    "X_train = X_train_full[my_cols].copy()\n",
    "X_valid = X_valid_full[my_cols].copy()\n",
    "X_test = X_test_full[my_cols].copy()\n",
    "\n",
    "# One-hot encode the data (to shorten the code, we use pandas)\n",
    "X_train = pd.get_dummies(X_train)\n",
    "X_valid = pd.get_dummies(X_valid)\n",
    "X_test = pd.get_dummies(X_test)\n",
    "X_train, X_valid = X_train.align(X_valid, join='left', axis=1)\n",
    "X_train, X_test = X_train.align(X_test, join='left', axis=1)"
   ]
  },
  {
   "cell_type": "markdown",
   "id": "c20f587e",
   "metadata": {
    "papermill": {
     "duration": 0.006796,
     "end_time": "2024-07-25T19:18:44.314459",
     "exception": false,
     "start_time": "2024-07-25T19:18:44.307663",
     "status": "completed"
    },
    "tags": []
   },
   "source": [
    "# Step 1: Build model\n",
    "\n",
    "### Part A\n",
    "\n",
    "In this step, you'll build and train your first model with gradient boosting.\n",
    "\n",
    "- Begin by setting `my_model_1` to an XGBoost model.  Use the [XGBRegressor](https://xgboost.readthedocs.io/en/latest/python/python_api.html#xgboost.XGBRegressor) class, and set the random seed to 0 (`random_state=0`).  **Leave all other parameters as default.**\n",
    "- Then, fit the model to the training data in `X_train` and `y_train`."
   ]
  },
  {
   "cell_type": "code",
   "execution_count": 3,
   "id": "bda1b367",
   "metadata": {
    "execution": {
     "iopub.execute_input": "2024-07-25T19:18:44.330322Z",
     "iopub.status.busy": "2024-07-25T19:18:44.329860Z",
     "iopub.status.idle": "2024-07-25T19:18:44.952254Z",
     "shell.execute_reply": "2024-07-25T19:18:44.951294Z"
    },
    "papermill": {
     "duration": 0.63313,
     "end_time": "2024-07-25T19:18:44.954664",
     "exception": false,
     "start_time": "2024-07-25T19:18:44.321534",
     "status": "completed"
    },
    "tags": []
   },
   "outputs": [
    {
     "data": {
      "application/javascript": [
       "parent.postMessage({\"jupyterEvent\": \"custom.exercise_interaction\", \"data\": {\"outcomeType\": 1, \"valueTowardsCompletion\": 0.5, \"interactionType\": 1, \"questionType\": 2, \"questionId\": \"1.1_Model1A\", \"learnToolsVersion\": \"0.3.4\", \"failureMessage\": \"\", \"exceptionClass\": \"\", \"trace\": \"\"}}, \"*\")"
      ],
      "text/plain": [
       "<IPython.core.display.Javascript object>"
      ]
     },
     "metadata": {},
     "output_type": "display_data"
    },
    {
     "data": {
      "text/markdown": [
       "<span style=\"color:#33cc33\">Correct</span>"
      ],
      "text/plain": [
       "Correct"
      ]
     },
     "metadata": {},
     "output_type": "display_data"
    }
   ],
   "source": [
    "from xgboost import XGBRegressor\n",
    "\n",
    "# Define the model\n",
    "my_model_1 = XGBRegressor(random_state=0)\n",
    "\n",
    "# Fit the model\n",
    "my_model_1.fit(X_train, y_train)\n",
    "\n",
    "# Check your answer\n",
    "step_1.a.check()"
   ]
  },
  {
   "cell_type": "code",
   "execution_count": 4,
   "id": "909a3729",
   "metadata": {
    "execution": {
     "iopub.execute_input": "2024-07-25T19:18:44.978195Z",
     "iopub.status.busy": "2024-07-25T19:18:44.977151Z",
     "iopub.status.idle": "2024-07-25T19:18:44.985030Z",
     "shell.execute_reply": "2024-07-25T19:18:44.982859Z"
    },
    "papermill": {
     "duration": 0.025047,
     "end_time": "2024-07-25T19:18:44.988269",
     "exception": false,
     "start_time": "2024-07-25T19:18:44.963222",
     "status": "completed"
    },
    "tags": []
   },
   "outputs": [],
   "source": [
    "# Lines below will give you a hint or solution code\n",
    "#step_1.a.hint()\n",
    "#step_1.a.solution()"
   ]
  },
  {
   "cell_type": "markdown",
   "id": "8b30902a",
   "metadata": {
    "papermill": {
     "duration": 0.008282,
     "end_time": "2024-07-25T19:18:45.004908",
     "exception": false,
     "start_time": "2024-07-25T19:18:44.996626",
     "status": "completed"
    },
    "tags": []
   },
   "source": [
    "### Part B\n",
    "\n",
    "Set `predictions_1` to the model's predictions for the validation data.  Recall that the validation features are stored in `X_valid`."
   ]
  },
  {
   "cell_type": "code",
   "execution_count": 5,
   "id": "ce4ef105",
   "metadata": {
    "execution": {
     "iopub.execute_input": "2024-07-25T19:18:45.028921Z",
     "iopub.status.busy": "2024-07-25T19:18:45.028323Z",
     "iopub.status.idle": "2024-07-25T19:18:45.101608Z",
     "shell.execute_reply": "2024-07-25T19:18:45.100712Z"
    },
    "papermill": {
     "duration": 0.093067,
     "end_time": "2024-07-25T19:18:45.109462",
     "exception": false,
     "start_time": "2024-07-25T19:18:45.016395",
     "status": "completed"
    },
    "tags": []
   },
   "outputs": [
    {
     "data": {
      "application/javascript": [
       "parent.postMessage({\"jupyterEvent\": \"custom.exercise_interaction\", \"data\": {\"outcomeType\": 1, \"valueTowardsCompletion\": 0.5, \"interactionType\": 1, \"questionType\": 2, \"questionId\": \"1.2_Model1B\", \"learnToolsVersion\": \"0.3.4\", \"failureMessage\": \"\", \"exceptionClass\": \"\", \"trace\": \"\"}}, \"*\")"
      ],
      "text/plain": [
       "<IPython.core.display.Javascript object>"
      ]
     },
     "metadata": {},
     "output_type": "display_data"
    },
    {
     "data": {
      "text/markdown": [
       "<span style=\"color:#33cc33\">Correct</span>"
      ],
      "text/plain": [
       "Correct"
      ]
     },
     "metadata": {},
     "output_type": "display_data"
    }
   ],
   "source": [
    "from sklearn.metrics import mean_absolute_error\n",
    "\n",
    "# Get predictions\n",
    "predictions_1 = my_model_1.predict(X_valid)\n",
    "\n",
    "# Check your answer\n",
    "step_1.b.check()"
   ]
  },
  {
   "cell_type": "code",
   "execution_count": 6,
   "id": "5d255e04",
   "metadata": {
    "execution": {
     "iopub.execute_input": "2024-07-25T19:18:45.127810Z",
     "iopub.status.busy": "2024-07-25T19:18:45.127237Z",
     "iopub.status.idle": "2024-07-25T19:18:45.133682Z",
     "shell.execute_reply": "2024-07-25T19:18:45.131943Z"
    },
    "papermill": {
     "duration": 0.019696,
     "end_time": "2024-07-25T19:18:45.137237",
     "exception": false,
     "start_time": "2024-07-25T19:18:45.117541",
     "status": "completed"
    },
    "tags": []
   },
   "outputs": [],
   "source": [
    "# Lines below will give you a hint or solution code\n",
    "# step_1.b.hint()\n",
    "#step_1.b.solution()"
   ]
  },
  {
   "cell_type": "markdown",
   "id": "7975cdb3",
   "metadata": {
    "papermill": {
     "duration": 0.007285,
     "end_time": "2024-07-25T19:18:45.152660",
     "exception": false,
     "start_time": "2024-07-25T19:18:45.145375",
     "status": "completed"
    },
    "tags": []
   },
   "source": [
    "### Part C\n",
    "\n",
    "Finally, use the `mean_absolute_error()` function to calculate the mean absolute error (MAE) corresponding to the predictions for the validation set.  Recall that the labels for the validation data are stored in `y_valid`."
   ]
  },
  {
   "cell_type": "code",
   "execution_count": 7,
   "id": "27e0fc14",
   "metadata": {
    "execution": {
     "iopub.execute_input": "2024-07-25T19:18:45.169912Z",
     "iopub.status.busy": "2024-07-25T19:18:45.169450Z",
     "iopub.status.idle": "2024-07-25T19:18:45.181381Z",
     "shell.execute_reply": "2024-07-25T19:18:45.180159Z"
    },
    "papermill": {
     "duration": 0.023714,
     "end_time": "2024-07-25T19:18:45.183995",
     "exception": false,
     "start_time": "2024-07-25T19:18:45.160281",
     "status": "completed"
    },
    "tags": []
   },
   "outputs": [
    {
     "name": "stdout",
     "output_type": "stream",
     "text": [
      "Mean Absolute Error: 18161.82412510702\n"
     ]
    },
    {
     "data": {
      "application/javascript": [
       "parent.postMessage({\"jupyterEvent\": \"custom.exercise_interaction\", \"data\": {\"outcomeType\": 1, \"valueTowardsCompletion\": 0.5, \"interactionType\": 1, \"questionType\": 2, \"questionId\": \"1.3_Model1C\", \"learnToolsVersion\": \"0.3.4\", \"failureMessage\": \"\", \"exceptionClass\": \"\", \"trace\": \"\"}}, \"*\")"
      ],
      "text/plain": [
       "<IPython.core.display.Javascript object>"
      ]
     },
     "metadata": {},
     "output_type": "display_data"
    },
    {
     "data": {
      "text/markdown": [
       "<span style=\"color:#33cc33\">Correct</span>"
      ],
      "text/plain": [
       "Correct"
      ]
     },
     "metadata": {},
     "output_type": "display_data"
    }
   ],
   "source": [
    "# Calculate MAE\n",
    "mae_1 = mean_absolute_error(predictions_1, y_valid)\n",
    "\n",
    "# Uncomment to print MAE\n",
    "print(\"Mean Absolute Error:\" , mae_1)\n",
    "\n",
    "# Check your answer\n",
    "step_1.c.check()"
   ]
  },
  {
   "cell_type": "code",
   "execution_count": 8,
   "id": "c53cd1bc",
   "metadata": {
    "execution": {
     "iopub.execute_input": "2024-07-25T19:18:45.202248Z",
     "iopub.status.busy": "2024-07-25T19:18:45.201839Z",
     "iopub.status.idle": "2024-07-25T19:18:45.206892Z",
     "shell.execute_reply": "2024-07-25T19:18:45.205771Z"
    },
    "papermill": {
     "duration": 0.0171,
     "end_time": "2024-07-25T19:18:45.209356",
     "exception": false,
     "start_time": "2024-07-25T19:18:45.192256",
     "status": "completed"
    },
    "tags": []
   },
   "outputs": [],
   "source": [
    "# Lines below will give you a hint or solution code\n",
    "#step_1.c.hint()\n",
    "#step_1.c.solution()"
   ]
  },
  {
   "cell_type": "markdown",
   "id": "83c2924a",
   "metadata": {
    "papermill": {
     "duration": 0.007999,
     "end_time": "2024-07-25T19:18:45.225453",
     "exception": false,
     "start_time": "2024-07-25T19:18:45.217454",
     "status": "completed"
    },
    "tags": []
   },
   "source": [
    "# Step 2: Improve the model\n",
    "\n",
    "Now that you've trained a default model as baseline, it's time to tinker with the parameters, to see if you can get better performance!\n",
    "- Begin by setting `my_model_2` to an XGBoost model, using the [XGBRegressor](https://xgboost.readthedocs.io/en/latest/python/python_api.html#xgboost.XGBRegressor) class.  Use what you learned in the previous tutorial to figure out how to change the default parameters (like `n_estimators` and `learning_rate`) to get better results.\n",
    "- Then, fit the model to the training data in `X_train` and `y_train`.\n",
    "- Set `predictions_2` to the model's predictions for the validation data.  Recall that the validation features are stored in `X_valid`.\n",
    "- Finally, use the `mean_absolute_error()` function to calculate the mean absolute error (MAE) corresponding to the predictions on the validation set.  Recall that the labels for the validation data are stored in `y_valid`.\n",
    "\n",
    "In order for this step to be marked correct, your model in `my_model_2` must attain lower MAE than the model in `my_model_1`. "
   ]
  },
  {
   "cell_type": "code",
   "execution_count": 9,
   "id": "c31996a0",
   "metadata": {
    "execution": {
     "iopub.execute_input": "2024-07-25T19:18:45.244900Z",
     "iopub.status.busy": "2024-07-25T19:18:45.243983Z",
     "iopub.status.idle": "2024-07-25T19:18:47.609478Z",
     "shell.execute_reply": "2024-07-25T19:18:47.608261Z"
    },
    "papermill": {
     "duration": 2.377797,
     "end_time": "2024-07-25T19:18:47.612212",
     "exception": false,
     "start_time": "2024-07-25T19:18:45.234415",
     "status": "completed"
    },
    "tags": []
   },
   "outputs": [
    {
     "name": "stdout",
     "output_type": "stream",
     "text": [
      "Mean Absolute Error: 17101.580024614726\n"
     ]
    },
    {
     "data": {
      "application/javascript": [
       "parent.postMessage({\"jupyterEvent\": \"custom.exercise_interaction\", \"data\": {\"outcomeType\": 1, \"valueTowardsCompletion\": 0.5, \"interactionType\": 1, \"questionType\": 2, \"questionId\": \"2_Model2\", \"learnToolsVersion\": \"0.3.4\", \"failureMessage\": \"\", \"exceptionClass\": \"\", \"trace\": \"\"}}, \"*\")"
      ],
      "text/plain": [
       "<IPython.core.display.Javascript object>"
      ]
     },
     "metadata": {},
     "output_type": "display_data"
    },
    {
     "data": {
      "text/markdown": [
       "<span style=\"color:#33cc33\">Correct</span>"
      ],
      "text/plain": [
       "Correct"
      ]
     },
     "metadata": {},
     "output_type": "display_data"
    }
   ],
   "source": [
    "# Define the model\n",
    "my_model_2 = XGBRegressor(n_estimators=500, learning_rate=0.05)\n",
    "\n",
    "# Fit the model\n",
    "my_model_2.fit(X_train, y_train)\n",
    "\n",
    "# Get predictions\n",
    "predictions_2 = my_model_2.predict(X_valid)\n",
    "\n",
    "# Calculate MAE\n",
    "mae_2 = mean_absolute_error(predictions_2, y_valid)\n",
    "\n",
    "# Uncomment to print MAE\n",
    "print(\"Mean Absolute Error:\" , mae_2)\n",
    "\n",
    "# Check your answer\n",
    "step_2.check()"
   ]
  },
  {
   "cell_type": "code",
   "execution_count": 10,
   "id": "747a2bac",
   "metadata": {
    "execution": {
     "iopub.execute_input": "2024-07-25T19:18:47.632931Z",
     "iopub.status.busy": "2024-07-25T19:18:47.632465Z",
     "iopub.status.idle": "2024-07-25T19:18:47.637947Z",
     "shell.execute_reply": "2024-07-25T19:18:47.636530Z"
    },
    "papermill": {
     "duration": 0.01831,
     "end_time": "2024-07-25T19:18:47.640637",
     "exception": false,
     "start_time": "2024-07-25T19:18:47.622327",
     "status": "completed"
    },
    "tags": []
   },
   "outputs": [],
   "source": [
    "# Lines below will give you a hint or solution code\n",
    "#step_2.hint()\n",
    "#step_2.solution()"
   ]
  },
  {
   "cell_type": "markdown",
   "id": "798f2a92",
   "metadata": {
    "papermill": {
     "duration": 0.008959,
     "end_time": "2024-07-25T19:18:47.658742",
     "exception": false,
     "start_time": "2024-07-25T19:18:47.649783",
     "status": "completed"
    },
    "tags": []
   },
   "source": [
    "# Step 3: Break the model\n",
    "\n",
    "In this step, you will create a model that performs worse than the original model in Step 1.  This will help you to develop your intuition for how to set parameters.  You might even find that you accidentally get better performance, which is ultimately a nice problem to have and a valuable learning experience!\n",
    "- Begin by setting `my_model_3` to an XGBoost model, using the [XGBRegressor](https://xgboost.readthedocs.io/en/latest/python/python_api.html#xgboost.XGBRegressor) class.  Use what you learned in the previous tutorial to figure out how to change the default parameters (like `n_estimators` and `learning_rate`) to design a model to get high MAE.\n",
    "- Then, fit the model to the training data in `X_train` and `y_train`.\n",
    "- Set `predictions_3` to the model's predictions for the validation data.  Recall that the validation features are stored in `X_valid`.\n",
    "- Finally, use the `mean_absolute_error()` function to calculate the mean absolute error (MAE) corresponding to the predictions on the validation set.  Recall that the labels for the validation data are stored in `y_valid`.\n",
    "\n",
    "In order for this step to be marked correct, your model in `my_model_3` must attain higher MAE than the model in `my_model_1`. "
   ]
  },
  {
   "cell_type": "code",
   "execution_count": 11,
   "id": "ea3f5b15",
   "metadata": {
    "execution": {
     "iopub.execute_input": "2024-07-25T19:18:47.679055Z",
     "iopub.status.busy": "2024-07-25T19:18:47.678606Z",
     "iopub.status.idle": "2024-07-25T19:18:48.295095Z",
     "shell.execute_reply": "2024-07-25T19:18:48.292995Z"
    },
    "papermill": {
     "duration": 0.631033,
     "end_time": "2024-07-25T19:18:48.299016",
     "exception": false,
     "start_time": "2024-07-25T19:18:47.667983",
     "status": "completed"
    },
    "tags": []
   },
   "outputs": [
    {
     "name": "stdout",
     "output_type": "stream",
     "text": [
      "Mean Absolute Error: 25082.139541416953\n"
     ]
    },
    {
     "data": {
      "application/javascript": [
       "parent.postMessage({\"jupyterEvent\": \"custom.exercise_interaction\", \"data\": {\"outcomeType\": 1, \"valueTowardsCompletion\": 0.5, \"interactionType\": 1, \"questionType\": 2, \"questionId\": \"3_Model3\", \"learnToolsVersion\": \"0.3.4\", \"failureMessage\": \"\", \"exceptionClass\": \"\", \"trace\": \"\"}}, \"*\")"
      ],
      "text/plain": [
       "<IPython.core.display.Javascript object>"
      ]
     },
     "metadata": {},
     "output_type": "display_data"
    },
    {
     "data": {
      "text/markdown": [
       "<span style=\"color:#33cc33\">Correct</span>"
      ],
      "text/plain": [
       "Correct"
      ]
     },
     "metadata": {},
     "output_type": "display_data"
    }
   ],
   "source": [
    "# Define the model\n",
    "my_model_3 = XGBRegressor(n_estimators=100, learning_rate=.9)\n",
    "\n",
    "# Fit the model\n",
    "my_model_3.fit(X_train, y_train)\n",
    "\n",
    "# Get predictions\n",
    "predictions_3 = my_model_3.predict(X_valid)\n",
    "\n",
    "# Calculate MAE\n",
    "mae_3 = mean_absolute_error(predictions_3, y_valid)\n",
    "\n",
    "# Uncomment to print MAE\n",
    "print(\"Mean Absolute Error:\" , mae_3)\n",
    "\n",
    "# Check your answer\n",
    "step_3.check()"
   ]
  },
  {
   "cell_type": "code",
   "execution_count": 12,
   "id": "90d82400",
   "metadata": {
    "execution": {
     "iopub.execute_input": "2024-07-25T19:18:48.320189Z",
     "iopub.status.busy": "2024-07-25T19:18:48.319726Z",
     "iopub.status.idle": "2024-07-25T19:18:48.324687Z",
     "shell.execute_reply": "2024-07-25T19:18:48.323598Z"
    },
    "papermill": {
     "duration": 0.017954,
     "end_time": "2024-07-25T19:18:48.327163",
     "exception": false,
     "start_time": "2024-07-25T19:18:48.309209",
     "status": "completed"
    },
    "tags": []
   },
   "outputs": [],
   "source": [
    "# Lines below will give you a hint or solution code\n",
    "#step_3.hint()\n",
    "#step_3.solution()"
   ]
  },
  {
   "cell_type": "markdown",
   "id": "8ea90c5c",
   "metadata": {
    "papermill": {
     "duration": 0.009191,
     "end_time": "2024-07-25T19:18:48.345615",
     "exception": false,
     "start_time": "2024-07-25T19:18:48.336424",
     "status": "completed"
    },
    "tags": []
   },
   "source": [
    "# Keep going\n",
    "\n",
    "Continue to learn about **[data leakage](https://www.kaggle.com/alexisbcook/data-leakage)**.  This is an important issue for a data scientist to understand, and it has the potential to ruin your models in subtle and dangerous ways!"
   ]
  },
  {
   "cell_type": "markdown",
   "id": "7768ec6c",
   "metadata": {
    "papermill": {
     "duration": 0.009511,
     "end_time": "2024-07-25T19:18:48.365698",
     "exception": false,
     "start_time": "2024-07-25T19:18:48.356187",
     "status": "completed"
    },
    "tags": []
   },
   "source": [
    "---\n",
    "\n",
    "\n",
    "\n",
    "\n",
    "*Have questions or comments? Visit the [course discussion forum](https://www.kaggle.com/learn/intermediate-machine-learning/discussion) to chat with other learners.*"
   ]
  }
 ],
 "metadata": {
  "kaggle": {
   "accelerator": "none",
   "dataSources": [
    {
     "databundleVersionId": 111096,
     "sourceId": 10211,
     "sourceType": "competition"
    }
   ],
   "isGpuEnabled": false,
   "isInternetEnabled": false,
   "language": "python",
   "sourceType": "notebook"
  },
  "kernelspec": {
   "display_name": "Python 3",
   "language": "python",
   "name": "python3"
  },
  "language_info": {
   "codemirror_mode": {
    "name": "ipython",
    "version": 3
   },
   "file_extension": ".py",
   "mimetype": "text/x-python",
   "name": "python",
   "nbconvert_exporter": "python",
   "pygments_lexer": "ipython3",
   "version": "3.10.13"
  },
  "papermill": {
   "default_parameters": {},
   "duration": 11.988439,
   "end_time": "2024-07-25T19:18:48.997815",
   "environment_variables": {},
   "exception": null,
   "input_path": "__notebook__.ipynb",
   "output_path": "__notebook__.ipynb",
   "parameters": {},
   "start_time": "2024-07-25T19:18:37.009376",
   "version": "2.5.0"
  }
 },
 "nbformat": 4,
 "nbformat_minor": 5
}
